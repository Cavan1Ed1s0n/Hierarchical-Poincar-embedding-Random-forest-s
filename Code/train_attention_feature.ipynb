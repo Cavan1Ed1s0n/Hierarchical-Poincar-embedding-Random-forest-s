{
 "cells": [
  {
   "cell_type": "code",
   "execution_count": 2,
   "id": "82904d96-69e8-4f34-bf5b-0a5738440ede",
   "metadata": {},
   "outputs": [],
   "source": [
    "import os\n",
    "os.environ[\"CUDA_DEVICE_ORDER\"]=\"PCI_BUS_ID\"   # see issue #152\n",
    "os.environ[\"CUDA_VISIBLE_DEVICES\"]=\"0\"\n",
    "\n",
    "import torch\n",
    "import numpy as np\n",
    "from time import time\n",
    "import json\n",
    "\n",
    "from torch import nn\n",
    "from tqdm import tqdm\n",
    "import joblib\n",
    "import pandas as pd\n",
    "from datasets import WordNetDataset\n",
    "\n",
    "device = 'cuda:0' if torch.cuda.is_available() else 'cpu:0'\n",
    "with open(f'exps/rf_Attrition/config_feat.json','r') as f:\n",
    "    config = json.loads(f.read())\n",
    "num_clf = 35\n",
    "\n",
    "\n",
    "poincard_embs = []\n",
    "for i in range(num_clf):\n",
    "    root_exp = f'exps/rf_Attrition_feat/{i:03d}'\n",
    "    os.makedirs(root_exp, exist_ok=True)\n",
    "    model = torch.load(os.path.join(root_exp, 'model.pt'))\n",
    "    poincard_embs.append(model.embedding.weight.cpu().detach().numpy())\n",
    "    \n",
    "rf_clf = joblib.load(\"random_forest/my_random_forest.joblib\")\n"
   ]
  },
  {
   "cell_type": "code",
   "execution_count": 3,
   "id": "8ee64b30-e8c3-4799-89db-48703fe003b6",
   "metadata": {},
   "outputs": [],
   "source": [
    "X_train = np.load('data/Attrition/X_train.npy')\n",
    "X_test = np.load('data/Attrition/X_test.npy')\n",
    "y_train = np.load('data/Attrition/y_train.npy')\n",
    "y_test = np.load('data/Attrition/y_test.npy')"
   ]
  },
  {
   "cell_type": "code",
   "execution_count": 4,
   "id": "568b6910-145e-4cf0-b8dd-bd5a655bc44e",
   "metadata": {},
   "outputs": [
    {
     "data": {
      "text/plain": [
       "35"
      ]
     },
     "execution_count": 4,
     "metadata": {},
     "output_type": "execute_result"
    }
   ],
   "source": [
    "len(rf_clf.estimators_)"
   ]
  },
  {
   "cell_type": "code",
   "execution_count": 4,
   "id": "7f7b1606-68fc-47cd-a7ec-2c76b10efa0b",
   "metadata": {},
   "outputs": [],
   "source": [
    "\n",
    "\n",
    "# data = WordNetDataset(filename=config['data'],neg_samples=config['neg_samples'])\n",
    "# data.root_idx,config['data'],data.raw_data\n",
    "\n",
    "# raw_data = data.raw_data\n",
    "# A,B = zip(*raw_data) #get As and Bs from raw data \n",
    "# items = tuple(set(A+B)) #individual items from dataset\n",
    "# items"
   ]
  },
  {
   "cell_type": "code",
   "execution_count": 6,
   "id": "b114711c-f183-4d82-8373-5bd7a16fbbb4",
   "metadata": {},
   "outputs": [],
   "source": [
    "\n",
    "embs_test = [[[] for _ in range(len(rf_clf.estimators_))] for _ in range(len(X_test))]\n",
    "\n",
    "for i,tree_clf in enumerate(rf_clf.estimators_[:]):\n",
    "    # print(i)\n",
    "    config['data'] = f'data/rf_Attrition/{i:03d}/data_closure_feat.tsv'\n",
    "    data = WordNetDataset(filename=config['data'],neg_samples=config['neg_samples'])\n",
    "    nodeid2embid = {int(k.split('_')[1]):v for k,v in data.item2id.items()}\n",
    "    \n",
    "    paths = tree_clf.decision_path(X_test).toarray()\n",
    "    \n",
    "    embs = []\n",
    "    for j,path in enumerate(paths):\n",
    "        nodeid = np.where(path==1)[0]\n",
    "        embid = [nodeid2embid[id] for id in nodeid]\n",
    "\n",
    "        emb = poincard_embs[i][embid]\n",
    "        embs_test[j][i] = emb"
   ]
  },
  {
   "cell_type": "code",
   "execution_count": 35,
   "id": "5aa0a778-f7ca-4f26-94d5-998fcb076388",
   "metadata": {},
   "outputs": [],
   "source": [
    "# i = 2\n",
    "# config['data'] = f'data/rf_Attrition/{i:03d}/data_closure.tsv'\n",
    "# data = WordNetDataset(filename=config['data'],neg_samples=config['neg_samples'])\n",
    "# nodeid2embid = {int(k.split('_')[1]):v for k,v in data.item2id.items()}\n",
    "# poincard_embs[i][nodeid2embid[0]]"
   ]
  },
  {
   "cell_type": "code",
   "execution_count": 7,
   "id": "96619417-7a83-4f14-9e7e-53fc16147f78",
   "metadata": {},
   "outputs": [
    {
     "ename": "NameError",
     "evalue": "name 'embs_train' is not defined",
     "output_type": "error",
     "traceback": [
      "\u001b[0;31m---------------------------------------------------------------------------\u001b[0m",
      "\u001b[0;31mNameError\u001b[0m                                 Traceback (most recent call last)",
      "Input \u001b[0;32mIn [7]\u001b[0m, in \u001b[0;36m<cell line: 8>\u001b[0;34m()\u001b[0m\n\u001b[1;32m      4\u001b[0m nodeid2embid \u001b[38;5;241m=\u001b[39m {\u001b[38;5;28mint\u001b[39m(k\u001b[38;5;241m.\u001b[39msplit(\u001b[38;5;124m'\u001b[39m\u001b[38;5;124m_\u001b[39m\u001b[38;5;124m'\u001b[39m)[\u001b[38;5;241m1\u001b[39m]):v \u001b[38;5;28;01mfor\u001b[39;00m k,v \u001b[38;5;129;01min\u001b[39;00m data\u001b[38;5;241m.\u001b[39mitem2id\u001b[38;5;241m.\u001b[39mitems()}\n\u001b[1;32m      6\u001b[0m paths \u001b[38;5;241m=\u001b[39m tree_clf\u001b[38;5;241m.\u001b[39mdecision_path(X_train)\u001b[38;5;241m.\u001b[39mtoarray()\n\u001b[0;32m----> 8\u001b[0m \u001b[43membs_train\u001b[49m[\u001b[38;5;241m1\u001b[39m][i],embs_train[\u001b[38;5;241m2\u001b[39m][i]\n\u001b[1;32m     10\u001b[0m path \u001b[38;5;241m=\u001b[39m paths[\u001b[38;5;241m2\u001b[39m]\n\u001b[1;32m     11\u001b[0m nodeid \u001b[38;5;241m=\u001b[39m np\u001b[38;5;241m.\u001b[39mwhere(path\u001b[38;5;241m==\u001b[39m\u001b[38;5;241m1\u001b[39m)[\u001b[38;5;241m0\u001b[39m]\n",
      "\u001b[0;31mNameError\u001b[0m: name 'embs_train' is not defined"
     ]
    }
   ],
   "source": [
    "i = 1\n",
    "config['data'] = f'data/rf_Attrition/{i:03d}/data_closure_feat.tsv'\n",
    "data = WordNetDataset(filename=config['data'],neg_samples=config['neg_samples'])\n",
    "nodeid2embid = {int(k.split('_')[1]):v for k,v in data.item2id.items()}\n",
    "\n",
    "paths = tree_clf.decision_path(X_train).toarray()\n",
    "\n",
    "embs_train[1][i],embs_train[2][i]\n",
    "\n",
    "path = paths[2]\n",
    "nodeid = np.where(path==1)[0]\n",
    "embid = [nodeid2embid[id] for id in nodeid]\n",
    "emb = poincard_embs[i][embid]\n",
    "emb"
   ]
  },
  {
   "cell_type": "code",
   "execution_count": 8,
   "id": "388f6637-9ef4-40ed-a6f4-a15ba159e4e2",
   "metadata": {},
   "outputs": [],
   "source": [
    "\n",
    "embs_train = [[[] for _ in range(len(rf_clf.estimators_))] for _ in range(len(X_train))]\n",
    "\n",
    "for i,tree_clf in enumerate(rf_clf.estimators_[:]):\n",
    "    # print(i)\n",
    "    config['data'] = f'data/rf_Attrition/{i:03d}/data_closure_feat.tsv'\n",
    "    data = WordNetDataset(filename=config['data'],neg_samples=config['neg_samples'])\n",
    "    nodeid2embid = {int(k.split('_')[1]):v for k,v in data.item2id.items()}\n",
    "    \n",
    "    paths = tree_clf.decision_path(X_train).toarray()\n",
    "    \n",
    "    embs = []\n",
    "    for j,path in enumerate(paths):\n",
    "        nodeid = np.where(path==1)[0]\n",
    "        embid = [nodeid2embid[id] for id in nodeid]\n",
    "\n",
    "        emb = poincard_embs[i][embid]\n",
    "        embs_train[j][i] = emb"
   ]
  },
  {
   "cell_type": "code",
   "execution_count": 9,
   "id": "8b476eaf-ee90-4a65-954e-afd6fa8cae79",
   "metadata": {},
   "outputs": [
    {
     "data": {
      "text/plain": [
       "torch.Size([2, 2])"
      ]
     },
     "execution_count": 9,
     "metadata": {},
     "output_type": "execute_result"
    }
   ],
   "source": [
    "\n",
    "import torch.nn as nn\n",
    "import torch.nn.functional as F\n",
    "class Attention(nn.Module):\n",
    "\n",
    "    def __init__(self, input_size, hidden_size):\n",
    "        super(Attention, self).__init__()\n",
    "        self.i2h = nn.Linear(input_size, hidden_size, bias=True)\n",
    "        self.score = nn.Linear(hidden_size, 1, bias=False)\n",
    "        self.hidden_size = hidden_size\n",
    "\n",
    "    def forward(self, batch_H):\n",
    "        # [batch_size x num_encoder_step x num_channel] -> [batch_size x num_encoder_step x hidden_size]\n",
    "        batch_H_proj = self.i2h(batch_H)\n",
    "        e = self.score(torch.tanh(batch_H_proj))  # batch_size x num_encoder_step * 1\n",
    "\n",
    "        alpha = F.softmax(e, dim=1)\n",
    "        context = torch.bmm(alpha.permute(0, 2, 1), batch_H).squeeze(1)  \n",
    "        return context\n",
    "\n",
    "    \n",
    "class PoincareTreeEmbedding(nn.Module):\n",
    "    def __init__(self, input_size, hidden_size):\n",
    "        super().__init__()\n",
    "        self.rnn = nn.LSTM(input_size, hidden_size, bidirectional=True, batch_first=True)\n",
    "        self.attention = Attention(hidden_size*2, hidden_size)\n",
    "        \n",
    "    def forward(self, x):\n",
    "        x,_ = self.rnn(x)\n",
    "        x = self.attention(x)\n",
    "        # print(x).shape\n",
    "        return x\n",
    "    \n",
    "class PoincareClassifier(nn.Module):\n",
    "    def __init__(self,input_size, hidden_size, num_tree = 35, num_classes=2):\n",
    "        super().__init__()\n",
    "        self.poincare_tree_embedding = PoincareTreeEmbedding(input_size = input_size, hidden_size = hidden_size)\n",
    "        self.classifier = nn.Sequential(\n",
    "            nn.Linear(hidden_size * 2 * num_tree, hidden_size),\n",
    "            nn.BatchNorm1d(hidden_size),\n",
    "            nn.ReLU(),\n",
    "            nn.Linear(hidden_size, num_classes)\n",
    "        )\n",
    "        \n",
    "    def forward(self, X):\n",
    "        # X: tree x image x path x 2\n",
    "        Xs = []\n",
    "        for x in X:\n",
    "            xs = []\n",
    "            for path in x:\n",
    "                path = torch.from_numpy(path[None]).float().cuda()\n",
    "                # print(path.shape)\n",
    "                x = self.poincare_tree_embedding(path)\n",
    "                xs.append(x)\n",
    "            xs = torch.cat(xs, dim=1)\n",
    "            Xs.append(xs)\n",
    "        Xs = torch.cat(Xs, dim=0)\n",
    "        # print(Xs)\n",
    "        out = self.classifier(Xs)\n",
    "        return out\n",
    "        \n",
    "        \n",
    "num_tree = 35\n",
    "model = PoincareClassifier(input_size = 2, hidden_size = 4).cuda()\n",
    "input = np.random.randn(2,num_tree, 5,2)\n",
    "y = torch.ones(1)\n",
    "x = model(input)\n",
    "x.shape"
   ]
  },
  {
   "cell_type": "code",
   "execution_count": 10,
   "id": "2bccdfdc-97a3-49e3-b59c-51eb245997b1",
   "metadata": {},
   "outputs": [
    {
     "name": "stderr",
     "output_type": "stream",
     "text": [
      "1|  16 loss: 0.13219 acc: 0.6791 avg_acc: 0.8906: 100%|██████████| 16/16 [00:44<00:00,  2.78s/it]\n",
      "100%|██████████| 6/6 [00:06<00:00,  1.08s/it]\n"
     ]
    },
    {
     "name": "stdout",
     "output_type": "stream",
     "text": [
      "acc: 0.839 auc: 0.486\n",
      "[[370   0]\n",
      " [ 71   0]]\n"
     ]
    },
    {
     "name": "stderr",
     "output_type": "stream",
     "text": [
      "2|  16 loss: 0.12238 acc: 0.7756 avg_acc: 0.8281: 100%|██████████| 16/16 [00:44<00:00,  2.78s/it]\n",
      "100%|██████████| 6/6 [00:06<00:00,  1.09s/it]\n"
     ]
    },
    {
     "name": "stdout",
     "output_type": "stream",
     "text": [
      "acc: 0.837 auc: 0.500\n",
      "[[369   1]\n",
      " [ 71   0]]\n"
     ]
    },
    {
     "name": "stderr",
     "output_type": "stream",
     "text": [
      "3|  16 loss: 0.10861 acc: 0.8237 avg_acc: 0.8750: 100%|██████████| 16/16 [00:44<00:00,  2.78s/it]\n",
      "100%|██████████| 6/6 [00:06<00:00,  1.08s/it]\n"
     ]
    },
    {
     "name": "stdout",
     "output_type": "stream",
     "text": [
      "acc: 0.819 auc: 0.510\n",
      "[[356  14]\n",
      " [ 66   5]]\n"
     ]
    },
    {
     "name": "stderr",
     "output_type": "stream",
     "text": [
      "4|  16 loss: 0.10377 acc: 0.8331 avg_acc: 0.8594: 100%|██████████| 16/16 [00:44<00:00,  2.78s/it]\n",
      "100%|██████████| 6/6 [00:06<00:00,  1.08s/it]\n"
     ]
    },
    {
     "name": "stdout",
     "output_type": "stream",
     "text": [
      "acc: 0.794 auc: 0.509\n",
      "[[342  28]\n",
      " [ 63   8]]\n"
     ]
    },
    {
     "name": "stderr",
     "output_type": "stream",
     "text": [
      "5|  16 loss: 0.10529 acc: 0.8512 avg_acc: 0.7969: 100%|██████████| 16/16 [00:44<00:00,  2.78s/it]\n",
      "100%|██████████| 6/6 [00:06<00:00,  1.07s/it]\n"
     ]
    },
    {
     "name": "stdout",
     "output_type": "stream",
     "text": [
      "acc: 0.789 auc: 0.508\n",
      "[[341  29]\n",
      " [ 64   7]]\n"
     ]
    },
    {
     "name": "stderr",
     "output_type": "stream",
     "text": [
      "6|  16 loss: 0.09423 acc: 0.8662 avg_acc: 0.7188: 100%|██████████| 16/16 [00:44<00:00,  2.78s/it]\n",
      "100%|██████████| 6/6 [00:06<00:00,  1.09s/it]\n"
     ]
    },
    {
     "name": "stdout",
     "output_type": "stream",
     "text": [
      "acc: 0.798 auc: 0.508\n",
      "[[345  25]\n",
      " [ 64   7]]\n"
     ]
    },
    {
     "name": "stderr",
     "output_type": "stream",
     "text": [
      "7|  16 loss: 0.08606 acc: 0.8668 avg_acc: 0.8750: 100%|██████████| 16/16 [00:44<00:00,  2.77s/it]\n",
      "100%|██████████| 6/6 [00:06<00:00,  1.08s/it]\n"
     ]
    },
    {
     "name": "stdout",
     "output_type": "stream",
     "text": [
      "acc: 0.812 auc: 0.510\n",
      "[[351  19]\n",
      " [ 64   7]]\n"
     ]
    },
    {
     "name": "stderr",
     "output_type": "stream",
     "text": [
      "8|  16 loss: 0.08212 acc: 0.8759 avg_acc: 0.8906: 100%|██████████| 16/16 [00:44<00:00,  2.79s/it]\n",
      "100%|██████████| 6/6 [00:06<00:00,  1.08s/it]\n"
     ]
    },
    {
     "name": "stdout",
     "output_type": "stream",
     "text": [
      "acc: 0.814 auc: 0.512\n",
      "[[353  17]\n",
      " [ 65   6]]\n"
     ]
    },
    {
     "name": "stderr",
     "output_type": "stream",
     "text": [
      "9|  16 loss: 0.08138 acc: 0.8634 avg_acc: 0.7812: 100%|██████████| 16/16 [00:44<00:00,  2.78s/it]\n",
      "100%|██████████| 6/6 [00:06<00:00,  1.08s/it]\n"
     ]
    },
    {
     "name": "stdout",
     "output_type": "stream",
     "text": [
      "acc: 0.816 auc: 0.514\n",
      "[[354  16]\n",
      " [ 65   6]]\n"
     ]
    },
    {
     "name": "stderr",
     "output_type": "stream",
     "text": [
      "10|  16 loss: 0.07733 acc: 0.8830 avg_acc: 0.8281: 100%|██████████| 16/16 [00:44<00:00,  2.78s/it]\n",
      "100%|██████████| 6/6 [00:06<00:00,  1.08s/it]\n"
     ]
    },
    {
     "name": "stdout",
     "output_type": "stream",
     "text": [
      "acc: 0.814 auc: 0.517\n",
      "[[354  16]\n",
      " [ 66   5]]\n"
     ]
    },
    {
     "name": "stderr",
     "output_type": "stream",
     "text": [
      "11|  16 loss: 0.08899 acc: 0.8604 avg_acc: 0.7969: 100%|██████████| 16/16 [00:44<00:00,  2.77s/it]\n",
      "100%|██████████| 6/6 [00:06<00:00,  1.08s/it]\n"
     ]
    },
    {
     "name": "stdout",
     "output_type": "stream",
     "text": [
      "acc: 0.814 auc: 0.518\n",
      "[[354  16]\n",
      " [ 66   5]]\n"
     ]
    },
    {
     "name": "stderr",
     "output_type": "stream",
     "text": [
      "12|  16 loss: 0.08598 acc: 0.8540 avg_acc: 0.7969: 100%|██████████| 16/16 [00:44<00:00,  2.78s/it]\n",
      "100%|██████████| 6/6 [00:06<00:00,  1.07s/it]\n"
     ]
    },
    {
     "name": "stdout",
     "output_type": "stream",
     "text": [
      "acc: 0.816 auc: 0.519\n",
      "[[355  15]\n",
      " [ 66   5]]\n"
     ]
    },
    {
     "name": "stderr",
     "output_type": "stream",
     "text": [
      "13|  16 loss: 0.08377 acc: 0.8572 avg_acc: 0.8125: 100%|██████████| 16/16 [00:44<00:00,  2.78s/it]\n",
      "100%|██████████| 6/6 [00:06<00:00,  1.08s/it]\n"
     ]
    },
    {
     "name": "stdout",
     "output_type": "stream",
     "text": [
      "acc: 0.816 auc: 0.520\n",
      "[[355  15]\n",
      " [ 66   5]]\n"
     ]
    },
    {
     "name": "stderr",
     "output_type": "stream",
     "text": [
      "14|  16 loss: 0.08593 acc: 0.8634 avg_acc: 0.7969: 100%|██████████| 16/16 [00:44<00:00,  2.77s/it]\n",
      "100%|██████████| 6/6 [00:06<00:00,  1.07s/it]\n"
     ]
    },
    {
     "name": "stdout",
     "output_type": "stream",
     "text": [
      "acc: 0.814 auc: 0.519\n",
      "[[354  16]\n",
      " [ 66   5]]\n"
     ]
    },
    {
     "name": "stderr",
     "output_type": "stream",
     "text": [
      "15|  16 loss: 0.07563 acc: 0.8795 avg_acc: 0.8594: 100%|██████████| 16/16 [00:43<00:00,  2.75s/it]\n",
      "100%|██████████| 6/6 [00:06<00:00,  1.06s/it]\n"
     ]
    },
    {
     "name": "stdout",
     "output_type": "stream",
     "text": [
      "acc: 0.816 auc: 0.519\n",
      "[[354  16]\n",
      " [ 65   6]]\n"
     ]
    },
    {
     "name": "stderr",
     "output_type": "stream",
     "text": [
      "16|  16 loss: 0.07713 acc: 0.8898 avg_acc: 0.8281: 100%|██████████| 16/16 [00:43<00:00,  2.74s/it]\n",
      "100%|██████████| 6/6 [00:06<00:00,  1.07s/it]\n"
     ]
    },
    {
     "name": "stdout",
     "output_type": "stream",
     "text": [
      "acc: 0.816 auc: 0.519\n",
      "[[354  16]\n",
      " [ 65   6]]\n"
     ]
    },
    {
     "name": "stderr",
     "output_type": "stream",
     "text": [
      "17|  16 loss: 0.06590 acc: 0.8695 avg_acc: 0.8438: 100%|██████████| 16/16 [00:44<00:00,  2.76s/it]\n",
      "100%|██████████| 6/6 [00:06<00:00,  1.08s/it]\n"
     ]
    },
    {
     "name": "stdout",
     "output_type": "stream",
     "text": [
      "acc: 0.814 auc: 0.522\n",
      "[[354  16]\n",
      " [ 66   5]]\n"
     ]
    },
    {
     "name": "stderr",
     "output_type": "stream",
     "text": [
      "18|  16 loss: 0.05784 acc: 0.8852 avg_acc: 0.9375: 100%|██████████| 16/16 [00:44<00:00,  2.76s/it]\n",
      "100%|██████████| 6/6 [00:06<00:00,  1.06s/it]\n"
     ]
    },
    {
     "name": "stdout",
     "output_type": "stream",
     "text": [
      "acc: 0.816 auc: 0.521\n",
      "[[354  16]\n",
      " [ 65   6]]\n"
     ]
    },
    {
     "name": "stderr",
     "output_type": "stream",
     "text": [
      "19|  16 loss: 0.07744 acc: 0.8680 avg_acc: 0.8750: 100%|██████████| 16/16 [00:44<00:00,  2.76s/it]\n",
      "100%|██████████| 6/6 [00:06<00:00,  1.06s/it]\n"
     ]
    },
    {
     "name": "stdout",
     "output_type": "stream",
     "text": [
      "acc: 0.816 auc: 0.523\n",
      "[[354  16]\n",
      " [ 65   6]]\n"
     ]
    },
    {
     "name": "stderr",
     "output_type": "stream",
     "text": [
      "20|  16 loss: 0.06535 acc: 0.8791 avg_acc: 0.8281: 100%|██████████| 16/16 [00:43<00:00,  2.75s/it]\n",
      "100%|██████████| 6/6 [00:06<00:00,  1.06s/it]"
     ]
    },
    {
     "name": "stdout",
     "output_type": "stream",
     "text": [
      "acc: 0.814 auc: 0.520\n",
      "[[354  16]\n",
      " [ 66   5]]\n",
      "Finished Training\n"
     ]
    },
    {
     "name": "stderr",
     "output_type": "stream",
     "text": [
      "\n"
     ]
    }
   ],
   "source": [
    "import torch.optim as optim\n",
    "import sklearn\n",
    "criterion = nn.CrossEntropyLoss()\n",
    "optimizer = optim.SGD(model.parameters(), lr=0.001, momentum=0.9)\n",
    "\n",
    "num_epochs = 20\n",
    "batch_size = 64\n",
    "for epoch in range(num_epochs):  # loop over the dataset multiple times\n",
    "\n",
    "    running_loss = None\n",
    "    running_acc = None\n",
    "    idxes = np.arange(len(X_train))\n",
    "    np.random.shuffle(idxes)\n",
    "    \n",
    "    pbar = tqdm(np.array_split(idxes, len(X_train) // batch_size))\n",
    "    model.train()\n",
    "    for i, idx in enumerate(pbar):\n",
    "        inputs = [embs_train[j] for j in idx]\n",
    "        labels = torch.from_numpy(y_train[idx]).cuda().long()\n",
    "\n",
    "        # zero the parameter gradients\n",
    "        optimizer.zero_grad()\n",
    "\n",
    "        # forward + backward + optimize\n",
    "        outputs = model(inputs)\n",
    "        loss = criterion(outputs, labels)\n",
    "        loss.backward()\n",
    "        optimizer.step()\n",
    "        \n",
    "        prob = F.softmax(outputs, dim=1)[:,1]\n",
    "        pred = (prob > 0.5).float()\n",
    "        acc = torch.mean(torch.eq(labels,pred).float())\n",
    "        \n",
    "        # print statistics\n",
    "        running_loss = 0.8*running_loss + 0.2* loss.item() if running_loss is not None else loss.item()\n",
    "        running_acc = 0.8*running_acc + 0.2* acc.item() if running_acc is not None else acc.item()\n",
    "        \n",
    "        if i % 1 == 0:    # print every 2000 mini-batches\n",
    "            s = f'{epoch + 1}| {i + 1:3d} loss: {running_loss / 1:.5f} acc: {running_acc / 1:.4f} avg_acc: {1-labels.float().mean().item() / 1:.4f}'\n",
    "            running_loss = 0.0\n",
    "            pbar.set_description(s)\n",
    "            \n",
    "    \n",
    "    idxes = np.arange(len(X_test))\n",
    "    \n",
    "    model.eval()\n",
    "    pbar = tqdm(np.array_split(idxes, len(X_test) // batch_size))\n",
    "    targets = []\n",
    "    probs = []\n",
    "    for i, idx in enumerate(pbar):\n",
    "        inputs = [embs_test[j] for j in idx]\n",
    "        labels = torch.from_numpy(y_test[idx]).cuda().long()\n",
    "        \n",
    "        with torch.no_grad():\n",
    "            outputs = model(inputs)\n",
    "        prob = F.softmax(outputs, dim=1)[:,1]\n",
    "        \n",
    "        targets.extend(y_train[idx])\n",
    "        probs.extend(prob.cpu().detach().numpy())\n",
    "        \n",
    "    targets = np.array(targets)\n",
    "    preds = np.array(probs)>0.5\n",
    "    acc = np.mean(preds == targets)\n",
    "    auc = sklearn.metrics.roc_auc_score(targets, probs)\n",
    "    confusion_matrix = sklearn.metrics.confusion_matrix(targets, preds)\n",
    "    print(f'acc: {acc:.3f} auc: {auc:.3f}')\n",
    "    print(confusion_matrix)\n",
    "\n",
    "print('Finished Training')"
   ]
  }
 ],
 "metadata": {
  "kernelspec": {
   "display_name": "baotq6",
   "language": "python",
   "name": "baotq6"
  },
  "language_info": {
   "codemirror_mode": {
    "name": "ipython",
    "version": 3
   },
   "file_extension": ".py",
   "mimetype": "text/x-python",
   "name": "python",
   "nbconvert_exporter": "python",
   "pygments_lexer": "ipython3",
   "version": "3.9.7"
  }
 },
 "nbformat": 4,
 "nbformat_minor": 5
}
